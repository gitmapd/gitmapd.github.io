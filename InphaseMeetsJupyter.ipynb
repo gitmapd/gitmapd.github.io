{
 "cells": [
  {
   "cell_type": "code",
   "execution_count": 6,
   "id": "b7dc78ba-dc3a-4181-83e0-6dee9d39289d",
   "metadata": {},
   "outputs": [],
   "source": [
    "import pandas as pd"
   ]
  },
  {
   "cell_type": "code",
   "execution_count": 7,
   "id": "3b5cbb9d-4585-4d48-b688-baa44cfdb515",
   "metadata": {},
   "outputs": [],
   "source": [
    "datas=['04-11-2022','15-11-2022','21-11-2022','28-11-2022','02-12-2022','09-12-2022','14-12-2022','03-02-2023','08-02-2023','13-02-2023','14-02-2023','21-02-2023','07-03-2023','28-03-2023','30-03-2023','15-05-2023','16-05-2023']"
   ]
  },
  {
   "cell_type": "code",
   "execution_count": 8,
   "id": "56e10b28-23d5-465e-80ab-61c50b44986c",
   "metadata": {},
   "outputs": [],
   "source": [
    "mydf = pd.DataFrame(datas, columns = ['Datas'])"
   ]
  },
  {
   "cell_type": "code",
   "execution_count": 9,
   "id": "c389af7d-f87a-4c22-a38f-45a00752a15e",
   "metadata": {},
   "outputs": [],
   "source": [
    "mydf['Datas'] = pd.to_datetime(mydf['Datas'],format='%d-%m-%Y')"
   ]
  },
  {
   "cell_type": "code",
   "execution_count": 18,
   "id": "72718abd-1a28-4f13-bdf6-36ebb57eaadd",
   "metadata": {},
   "outputs": [],
   "source": [
    "mydf['+3M'] = mydf['Datas'] + pd.DateOffset(months=3)"
   ]
  },
  {
   "cell_type": "code",
   "execution_count": 19,
   "id": "f2494051-b0f1-48db-aad3-b7ff9607955f",
   "metadata": {},
   "outputs": [],
   "source": [
    "mydf['+6M'] = mydf['+3M'] + pd.DateOffset(months=3)"
   ]
  },
  {
   "cell_type": "code",
   "execution_count": 20,
   "id": "110be8a7-1269-444c-bc98-0a22abeff3ab",
   "metadata": {},
   "outputs": [
    {
     "data": {
      "text/html": [
       "<div>\n",
       "<style scoped>\n",
       "    .dataframe tbody tr th:only-of-type {\n",
       "        vertical-align: middle;\n",
       "    }\n",
       "\n",
       "    .dataframe tbody tr th {\n",
       "        vertical-align: top;\n",
       "    }\n",
       "\n",
       "    .dataframe thead th {\n",
       "        text-align: right;\n",
       "    }\n",
       "</style>\n",
       "<table border=\"1\" class=\"dataframe\">\n",
       "  <thead>\n",
       "    <tr style=\"text-align: right;\">\n",
       "      <th></th>\n",
       "      <th>Datas</th>\n",
       "      <th>+3M</th>\n",
       "      <th>+6M</th>\n",
       "    </tr>\n",
       "  </thead>\n",
       "  <tbody>\n",
       "    <tr>\n",
       "      <th>0</th>\n",
       "      <td>2022-11-04</td>\n",
       "      <td>2023-02-04</td>\n",
       "      <td>2023-05-04</td>\n",
       "    </tr>\n",
       "    <tr>\n",
       "      <th>1</th>\n",
       "      <td>2022-11-15</td>\n",
       "      <td>2023-02-15</td>\n",
       "      <td>2023-05-15</td>\n",
       "    </tr>\n",
       "    <tr>\n",
       "      <th>2</th>\n",
       "      <td>2022-11-21</td>\n",
       "      <td>2023-02-21</td>\n",
       "      <td>2023-05-21</td>\n",
       "    </tr>\n",
       "    <tr>\n",
       "      <th>3</th>\n",
       "      <td>2022-11-28</td>\n",
       "      <td>2023-02-28</td>\n",
       "      <td>2023-05-28</td>\n",
       "    </tr>\n",
       "    <tr>\n",
       "      <th>4</th>\n",
       "      <td>2022-12-02</td>\n",
       "      <td>2023-03-02</td>\n",
       "      <td>2023-06-02</td>\n",
       "    </tr>\n",
       "    <tr>\n",
       "      <th>5</th>\n",
       "      <td>2022-12-09</td>\n",
       "      <td>2023-03-09</td>\n",
       "      <td>2023-06-09</td>\n",
       "    </tr>\n",
       "    <tr>\n",
       "      <th>6</th>\n",
       "      <td>2022-12-14</td>\n",
       "      <td>2023-03-14</td>\n",
       "      <td>2023-06-14</td>\n",
       "    </tr>\n",
       "    <tr>\n",
       "      <th>7</th>\n",
       "      <td>2023-02-03</td>\n",
       "      <td>2023-05-03</td>\n",
       "      <td>2023-08-03</td>\n",
       "    </tr>\n",
       "    <tr>\n",
       "      <th>8</th>\n",
       "      <td>2023-02-08</td>\n",
       "      <td>2023-05-08</td>\n",
       "      <td>2023-08-08</td>\n",
       "    </tr>\n",
       "    <tr>\n",
       "      <th>9</th>\n",
       "      <td>2023-02-13</td>\n",
       "      <td>2023-05-13</td>\n",
       "      <td>2023-08-13</td>\n",
       "    </tr>\n",
       "    <tr>\n",
       "      <th>10</th>\n",
       "      <td>2023-02-14</td>\n",
       "      <td>2023-05-14</td>\n",
       "      <td>2023-08-14</td>\n",
       "    </tr>\n",
       "    <tr>\n",
       "      <th>11</th>\n",
       "      <td>2023-02-21</td>\n",
       "      <td>2023-05-21</td>\n",
       "      <td>2023-08-21</td>\n",
       "    </tr>\n",
       "    <tr>\n",
       "      <th>12</th>\n",
       "      <td>2023-03-07</td>\n",
       "      <td>2023-06-07</td>\n",
       "      <td>2023-09-07</td>\n",
       "    </tr>\n",
       "    <tr>\n",
       "      <th>13</th>\n",
       "      <td>2023-03-28</td>\n",
       "      <td>2023-06-28</td>\n",
       "      <td>2023-09-28</td>\n",
       "    </tr>\n",
       "    <tr>\n",
       "      <th>14</th>\n",
       "      <td>2023-03-30</td>\n",
       "      <td>2023-06-30</td>\n",
       "      <td>2023-09-30</td>\n",
       "    </tr>\n",
       "    <tr>\n",
       "      <th>15</th>\n",
       "      <td>2023-05-15</td>\n",
       "      <td>2023-08-15</td>\n",
       "      <td>2023-11-15</td>\n",
       "    </tr>\n",
       "    <tr>\n",
       "      <th>16</th>\n",
       "      <td>2023-05-16</td>\n",
       "      <td>2023-08-16</td>\n",
       "      <td>2023-11-16</td>\n",
       "    </tr>\n",
       "  </tbody>\n",
       "</table>\n",
       "</div>"
      ],
      "text/plain": [
       "        Datas        +3M        +6M\n",
       "0  2022-11-04 2023-02-04 2023-05-04\n",
       "1  2022-11-15 2023-02-15 2023-05-15\n",
       "2  2022-11-21 2023-02-21 2023-05-21\n",
       "3  2022-11-28 2023-02-28 2023-05-28\n",
       "4  2022-12-02 2023-03-02 2023-06-02\n",
       "5  2022-12-09 2023-03-09 2023-06-09\n",
       "6  2022-12-14 2023-03-14 2023-06-14\n",
       "7  2023-02-03 2023-05-03 2023-08-03\n",
       "8  2023-02-08 2023-05-08 2023-08-08\n",
       "9  2023-02-13 2023-05-13 2023-08-13\n",
       "10 2023-02-14 2023-05-14 2023-08-14\n",
       "11 2023-02-21 2023-05-21 2023-08-21\n",
       "12 2023-03-07 2023-06-07 2023-09-07\n",
       "13 2023-03-28 2023-06-28 2023-09-28\n",
       "14 2023-03-30 2023-06-30 2023-09-30\n",
       "15 2023-05-15 2023-08-15 2023-11-15\n",
       "16 2023-05-16 2023-08-16 2023-11-16"
      ]
     },
     "execution_count": 20,
     "metadata": {},
     "output_type": "execute_result"
    }
   ],
   "source": [
    "mydf"
   ]
  },
  {
   "cell_type": "code",
   "execution_count": null,
   "id": "d9a86f71-f996-4e71-b0ab-2fbf4f87ac78",
   "metadata": {},
   "outputs": [],
   "source": []
  }
 ],
 "metadata": {
  "kernelspec": {
   "display_name": "Python 3 (ipykernel)",
   "language": "python",
   "name": "python3"
  },
  "language_info": {
   "codemirror_mode": {
    "name": "ipython",
    "version": 3
   },
   "file_extension": ".py",
   "mimetype": "text/x-python",
   "name": "python",
   "nbconvert_exporter": "python",
   "pygments_lexer": "ipython3",
   "version": "3.11.5"
  }
 },
 "nbformat": 4,
 "nbformat_minor": 5
}
