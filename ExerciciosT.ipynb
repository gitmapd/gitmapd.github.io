{
 "cells": [
  {
   "cell_type": "markdown",
   "id": "67e713ff-8e4e-4ff6-9315-413ba75af940",
   "metadata": {},
   "source": [
    "![title](img/Ex1Py.png)"
   ]
  },
  {
   "cell_type": "code",
   "execution_count": 1,
   "id": "af9218d7-d460-4381-8dfd-a24caca39d50",
   "metadata": {},
   "outputs": [
    {
     "name": "stdout",
     "output_type": "stream",
     "text": [
      "2, 9, 16, 23, 30, 37, 44, 51, 58, 65, 72, 79, 86, 93, 100, 107, 114, 121, 128, 135, 142, "
     ]
    }
   ],
   "source": [
    "termo = 2\n",
    "print(termo,end=\", \")\n",
    "for i in range(20):\n",
    "    termo +=7\n",
    "    print(termo,end=\", \")"
   ]
  },
  {
   "cell_type": "code",
   "execution_count": 9,
   "id": "5846eb9c-de18-42bc-a363-d1a2517979d7",
   "metadata": {},
   "outputs": [
    {
     "name": "stdout",
     "output_type": "stream",
     "text": [
      "[1, 2, 2, 4, 8, 32, 256, 8192, 2097152, 17179869184, 36028797018963968, 618970019642690137449562112, 22300745198530623141535718272648361505980416, 13803492693581127574869511724554050904902217944340773110325048447598592, 307828173409331868845930000782371982852185463050511302093346042220669701339821957901673955116288403443801781174272, 4249103942534136789516705652419749018636744941816255385595553105603228478886817941913300018121834285351114635889972008122772634701221657915276159830132698815550650166683145752253825024, 1307993905256673975767120421215822522657964858038981454399109360803651185455244290152830052265253733065911465963809993683089776960073625541502023629723947119620918917825223508962533521125777727280023703876104306028269279939868013618062200188730110219063866757530095479450736063434158250346338582528, 5557802059636755577502101758189670539477404314017229914927277886719210383721144029873097822021746177185744190142631172968138382056910497414548127087701601264945323134827551997091338212293135879879491345159385478408175699508177271706585629473612264248953380291155856289253734645202810926484722447361512128711307691500239413920857808617768611525749735478533215161287027531150334342583726838227320595626245037548705230415242001052059221893063991155848530819942371369662020078295580672, 7269571220627865960521160791605471835355486134202329528196715632135831547021667820610489669276412307052313282798182724228494489571749785803184288017511963522262363914512187106605499089158487126931984998931607232391153536046707042953355790522537094715328944294216691664397407079523074157949383649613963144290903909350911775369346530804545543989831547266901148133975781331624980745497418452932259866320677062287020172601937538303131944333834647775468710319343284001431665213130766208748703580971865899367058864133080365305110228654823694689069629811633466999394638916807976061252245511624205865226492647247562826021570513721099219359990299022601672140852584716895460404747374717998459657246694308370646635919987895996736789540655850081764170577611893869560559643310988147153698816, 40402837902681636728944075743787553100525682155095512378964422777603868950506930861717917533437872733331163749402810157624782768673230891816987490551905340881752888279603138518191111716881949552549160131745806179838486331517519612530107010848184454155262043297698584472305666060239590278515423698446924016905488325598335772066735159070456995849814032539752600585895017014694423010433798673845056085403359098141371140530762026453348555431569874185293170827107542371439509950807139893959502478320552721426098325935006502799521922431966858110235185919897653196283854130097539000187383953329893127488468166034132053126308333843119595198474911165503447582107723454039267515776603862577982956367126331850118914853499390731234219608390475451974464619926988739186860683869584653781823013819650399948927444371407437739219154992146162915693944963833448800961802144573580229512448388807563262959394843574661854584774014430930715367417310888445656406425723770290478242768598061317757682800414261940752076138979657876855026741322587621346514807927557056133231749398586888997959871228501125096342137491759086629512391627552203028072018719550218091994823342671610508985819108374449772813820742317545710474022452448409285635606019542075914141598026149308453676552831318884352]\n"
     ]
    }
   ],
   "source": [
    "seq = [1,2]\n",
    "for i in range(18):\n",
    "    proximo = seq[-1] * seq[-2]\n",
    "    seq.append(proximo)\n",
    "print(seq)"
   ]
  },
  {
   "cell_type": "markdown",
   "id": "3c176575-c041-423a-8b5e-173ea2ce6d07",
   "metadata": {},
   "source": [
    "![title](img/Ex2Py.png)"
   ]
  },
  {
   "cell_type": "code",
   "execution_count": 18,
   "id": "e9feee3e-c1c9-46ee-898e-92aaaa010401",
   "metadata": {},
   "outputs": [],
   "source": [
    "def segunda(n):\n",
    "    sequencia = [1, 2]\n",
    "    for i in range(2, n):\n",
    "        proximo = sequencia[-1] * sequencia[-2]\n",
    "        sequencia.append(proximo)\n",
    "    return sequencia[n-1]"
   ]
  },
  {
   "cell_type": "code",
   "execution_count": 19,
   "id": "e2e52174-af7c-4da7-a6b1-89a3523ea040",
   "metadata": {},
   "outputs": [
    {
     "data": {
      "text/plain": [
       "32"
      ]
     },
     "execution_count": 19,
     "metadata": {},
     "output_type": "execute_result"
    }
   ],
   "source": [
    "segunda(6)"
   ]
  },
  {
   "cell_type": "code",
   "execution_count": 58,
   "id": "d18de76b-0bc5-44e1-ac49-52c784131024",
   "metadata": {},
   "outputs": [],
   "source": [
    "def primeira(n):\n",
    "    sequencia = [2]\n",
    "    proximo = 2\n",
    "    for i in range(n):\n",
    "        proximo += 7\n",
    "        sequencia.append(proximo)\n",
    "    return sequencia[n-1]"
   ]
  },
  {
   "cell_type": "code",
   "execution_count": 61,
   "id": "08110e0d-20ea-4ae9-8eac-c20898ece67a",
   "metadata": {},
   "outputs": [
    {
     "data": {
      "text/plain": [
       "2"
      ]
     },
     "execution_count": 61,
     "metadata": {},
     "output_type": "execute_result"
    }
   ],
   "source": [
    "primeira(1)"
   ]
  },
  {
   "cell_type": "markdown",
   "id": "abc1c018-e2fd-4d55-83d2-86b1865e579a",
   "metadata": {},
   "source": [
    "![title](img/Ex3Py.png)"
   ]
  },
  {
   "cell_type": "code",
   "execution_count": 62,
   "id": "de307eb7-1453-4eb2-9410-228899137f67",
   "metadata": {},
   "outputs": [],
   "source": [
    "def somaPares(a,x):\n",
    "    for i in range(len(a)-1):\n",
    "        for j in range(i+1,len(a)):\n",
    "            if a[i]+a[j] ==x:\n",
    "                return True\n",
    "    return False"
   ]
  },
  {
   "cell_type": "code",
   "execution_count": 64,
   "id": "fb6e2b1a-21c5-418c-852e-7bc67e4ddd6a",
   "metadata": {},
   "outputs": [
    {
     "data": {
      "text/plain": [
       "True"
      ]
     },
     "execution_count": 64,
     "metadata": {},
     "output_type": "execute_result"
    }
   ],
   "source": [
    "#somaPares([1,2,3,-1],10)\n",
    "somaPares([1,2,3,-1],2)"
   ]
  },
  {
   "cell_type": "markdown",
   "id": "b3645d03-6540-4512-b743-7cdb356d66e7",
   "metadata": {},
   "source": [
    "![title](img/Ex4Py.png)"
   ]
  },
  {
   "cell_type": "code",
   "execution_count": 65,
   "id": "285574cb-479c-41d3-a089-e1ad05e2c0d7",
   "metadata": {},
   "outputs": [
    {
     "data": {
      "text/plain": [
       "'e'"
      ]
     },
     "execution_count": 65,
     "metadata": {},
     "output_type": "execute_result"
    }
   ],
   "source": [
    "from string import ascii_letters\n",
    "def mais_freq(a):\n",
    "    occ = {}\n",
    "    for x in a:\n",
    "        if x in ascii_letters:\n",
    "            occ.setdefault(x,0)\n",
    "            occ[x] +=1\n",
    "    max_occ = max(occ.values())\n",
    "    for k,v in occ.items():\n",
    "        if v == max_occ:\n",
    "            return k\n",
    "mais_freq(\"um exemplo a ver\")\n",
    "    "
   ]
  },
  {
   "cell_type": "code",
   "execution_count": 67,
   "id": "ffc2ef2f-8ec9-45d6-b2b4-b7a9de8b3b8a",
   "metadata": {},
   "outputs": [
    {
     "data": {
      "text/plain": [
       "'e'"
      ]
     },
     "execution_count": 67,
     "metadata": {},
     "output_type": "execute_result"
    }
   ],
   "source": [
    "def mais_freq(a):\n",
    "    a=a.replace(\" \", \"\")\n",
    "    occ = {}\n",
    "    for x in a:\n",
    "        occ.setdefault(x,0)\n",
    "        occ[x] +=1\n",
    "    max_occ = max(occ.values())\n",
    "    for k,v in occ.items():\n",
    "        if v == max_occ:\n",
    "            return k\n",
    "mais_freq(\"um exemplo a ver\")"
   ]
  },
  {
   "cell_type": "markdown",
   "id": "e250003c-1b37-49d7-971e-09fc5e64dbaa",
   "metadata": {},
   "source": [
    "![title](img/Ex5Py.png)"
   ]
  },
  {
   "cell_type": "code",
   "execution_count": 72,
   "id": "690abbbc-f2a1-466a-94df-6ef9a20f95eb",
   "metadata": {},
   "outputs": [],
   "source": [
    "def hist2list(h):\n",
    "    lista = []\n",
    "    for k,v in sorted(h.items()):\n",
    "        lista+=[k]*v\n",
    "    return lista"
   ]
  },
  {
   "cell_type": "code",
   "execution_count": 73,
   "id": "dae0399f-99e0-4cea-985f-3cd46c546ccc",
   "metadata": {},
   "outputs": [
    {
     "data": {
      "text/plain": [
       "[10, 10, 10, 10, 20, 20]"
      ]
     },
     "execution_count": 73,
     "metadata": {},
     "output_type": "execute_result"
    }
   ],
   "source": [
    "hist2list({10:4,20:2})"
   ]
  },
  {
   "cell_type": "code",
   "execution_count": 77,
   "id": "18d6152f-32da-4de5-80cb-6b779a691691",
   "metadata": {},
   "outputs": [
    {
     "data": {
      "text/plain": [
       "[10, 10, 10, 10, 20, 20]"
      ]
     },
     "execution_count": 77,
     "metadata": {},
     "output_type": "execute_result"
    }
   ],
   "source": [
    "def hist2list(h):\n",
    "    lista = []\n",
    "    for k,v in sorted(h.items(), key=lambda t: t[0]):\n",
    "        lista+=[k]*v\n",
    "    return lista\n",
    "hist2list({10:4,20:2})"
   ]
  },
  {
   "cell_type": "code",
   "execution_count": 75,
   "id": "fe9b9ed2-36cb-41d8-9292-d5445a1414d2",
   "metadata": {},
   "outputs": [],
   "source": [
    "def curs(v,i,j):\n",
    "    cur = v[i]\n",
    "    cur_index = i\n",
    "    for k in range(i,j+1):\n",
    "        if v[k] < cur:\n",
    "            cur = v[k]\n",
    "            cur_index = k\n",
    "    return cur_index"
   ]
  },
  {
   "cell_type": "code",
   "execution_count": 71,
   "id": "2b2e1808-e551-4631-ac84-ad78ab7e578d",
   "metadata": {},
   "outputs": [
    {
     "data": {
      "text/plain": [
       "2"
      ]
     },
     "execution_count": 71,
     "metadata": {},
     "output_type": "execute_result"
    }
   ],
   "source": [
    "def recurs(v,i,j):\n",
    "    if i == j:\n",
    "        return i\n",
    "    min_pos = recurs(v,i+1,j)\n",
    "    return i if v[i] < v[min_pos] else min_pos\n",
    "v1 = [40,20,10]\n",
    "recurs(v1,0,2)"
   ]
  },
  {
   "cell_type": "code",
   "execution_count": 78,
   "id": "8647a153-7487-4acb-ba7e-6b759b7c87ac",
   "metadata": {},
   "outputs": [
    {
     "name": "stdout",
     "output_type": "stream",
     "text": [
      "[0, 5, 8, 10, 20, 30, 31, 40, 60, 80, 100]\n"
     ]
    }
   ],
   "source": [
    "def merge(arr,inicio,meio,fim):\n",
    "    a1=arr[inicio:meio+1]\n",
    "    a2=arr[meio+1:fim+1]\n",
    "    i=j=0\n",
    "    k=inicio\n",
    "    while i < len(a1) and j < len(a2):\n",
    "        if a1[i] <= a2[j]:\n",
    "            arr[k]= a1[i]\n",
    "            i+=1\n",
    "        else:\n",
    "            arr[k] = a2[j]\n",
    "            j += 1\n",
    "        k += 1\n",
    "    while i < len(a1):\n",
    "        arr[k]= a1[i]\n",
    "        i+=1\n",
    "        k+=1\n",
    "    while j < len(a2):\n",
    "        arr[k]= a2[j]\n",
    "        j+=1\n",
    "        k+=1\n",
    "u = [0, 10, 20, 30, 40, 60, 80, 5, 8, 31, 100]\n",
    "merge(u, 0, 6, len(u)-1)\n",
    "print(u)"
   ]
  },
  {
   "cell_type": "code",
   "execution_count": 90,
   "id": "1fe0a065-9384-4f2f-b392-fe3019e5c123",
   "metadata": {},
   "outputs": [],
   "source": [
    "def f(hist):\n",
    "    out = (max(hist) + 1) * [0]\n",
    "    for x in hist:\n",
    "        out[x] +=1\n",
    "    return out"
   ]
  },
  {
   "cell_type": "code",
   "execution_count": 91,
   "id": "c6e8b07f-ce53-4710-a600-8699f01c6b39",
   "metadata": {},
   "outputs": [
    {
     "name": "stdout",
     "output_type": "stream",
     "text": [
      "[2, 3, 1, 0, 1]\n"
     ]
    }
   ],
   "source": [
    "print(f([1,0,0,2,1,4,1]))"
   ]
  },
  {
   "cell_type": "code",
   "execution_count": 98,
   "id": "98f4a2c7-4339-43cb-90f7-bc102dc54897",
   "metadata": {},
   "outputs": [],
   "source": [
    "def hist_ac (u):\n",
    "    acc = f(u)\n",
    "    print(acc)\n",
    "    for i in range(1,len(acc)):\n",
    "        acc[i]+=acc[i-1]\n",
    "    return acc"
   ]
  },
  {
   "cell_type": "code",
   "execution_count": 99,
   "id": "293cfd5d-5693-4aa4-a7b3-3d241ff32f65",
   "metadata": {},
   "outputs": [
    {
     "name": "stdout",
     "output_type": "stream",
     "text": [
      "[2, 3, 1, 0, 1]\n"
     ]
    },
    {
     "data": {
      "text/plain": [
       "[2, 5, 6, 6, 7]"
      ]
     },
     "execution_count": 99,
     "metadata": {},
     "output_type": "execute_result"
    }
   ],
   "source": [
    "hist_ac([1,0,0,2,1,4,1])"
   ]
  },
  {
   "cell_type": "code",
   "execution_count": null,
   "id": "3387ee03-77ac-4c38-bdbb-5682eb1998a3",
   "metadata": {},
   "outputs": [],
   "source": []
  }
 ],
 "metadata": {
  "kernelspec": {
   "display_name": "Python 3 (ipykernel)",
   "language": "python",
   "name": "python3"
  },
  "language_info": {
   "codemirror_mode": {
    "name": "ipython",
    "version": 3
   },
   "file_extension": ".py",
   "mimetype": "text/x-python",
   "name": "python",
   "nbconvert_exporter": "python",
   "pygments_lexer": "ipython3",
   "version": "3.11.5"
  }
 },
 "nbformat": 4,
 "nbformat_minor": 5
}
