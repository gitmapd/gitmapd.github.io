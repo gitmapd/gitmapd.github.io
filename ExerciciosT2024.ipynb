{
 "cells": [
  {
   "cell_type": "markdown",
   "id": "67e713ff-8e4e-4ff6-9315-413ba75af940",
   "metadata": {},
   "source": [
    "![title](img/Ex1Py.png)"
   ]
  },
  {
   "cell_type": "code",
   "execution_count": 1,
   "id": "af9218d7-d460-4381-8dfd-a24caca39d50",
   "metadata": {},
   "outputs": [
    {
     "name": "stdout",
     "output_type": "stream",
     "text": [
      "2, 9, 16, 23, 30, 37, 44, 51, 58, 65, 72, 79, 86, 93, 100, 107, 114, 121, 128, 135, 142, "
     ]
    }
   ],
   "source": [
    "termo = 2\n",
    "print(termo,end=\", \")\n",
    "for i in range(20):\n",
    "    termo +=7\n",
    "    print(termo,end=\", \")"
   ]
  },
  {
   "cell_type": "code",
   "execution_count": 9,
   "id": "5846eb9c-de18-42bc-a363-d1a2517979d7",
   "metadata": {},
   "outputs": [
    {
     "name": "stdout",
     "output_type": "stream",
     "text": [
      "[1, 2, 2, 4, 8, 32, 256, 8192, 2097152, 17179869184, 36028797018963968, 618970019642690137449562112, 22300745198530623141535718272648361505980416, 13803492693581127574869511724554050904902217944340773110325048447598592, 307828173409331868845930000782371982852185463050511302093346042220669701339821957901673955116288403443801781174272, 4249103942534136789516705652419749018636744941816255385595553105603228478886817941913300018121834285351114635889972008122772634701221657915276159830132698815550650166683145752253825024, 1307993905256673975767120421215822522657964858038981454399109360803651185455244290152830052265253733065911465963809993683089776960073625541502023629723947119620918917825223508962533521125777727280023703876104306028269279939868013618062200188730110219063866757530095479450736063434158250346338582528, 5557802059636755577502101758189670539477404314017229914927277886719210383721144029873097822021746177185744190142631172968138382056910497414548127087701601264945323134827551997091338212293135879879491345159385478408175699508177271706585629473612264248953380291155856289253734645202810926484722447361512128711307691500239413920857808617768611525749735478533215161287027531150334342583726838227320595626245037548705230415242001052059221893063991155848530819942371369662020078295580672, 7269571220627865960521160791605471835355486134202329528196715632135831547021667820610489669276412307052313282798182724228494489571749785803184288017511963522262363914512187106605499089158487126931984998931607232391153536046707042953355790522537094715328944294216691664397407079523074157949383649613963144290903909350911775369346530804545543989831547266901148133975781331624980745497418452932259866320677062287020172601937538303131944333834647775468710319343284001431665213130766208748703580971865899367058864133080365305110228654823694689069629811633466999394638916807976061252245511624205865226492647247562826021570513721099219359990299022601672140852584716895460404747374717998459657246694308370646635919987895996736789540655850081764170577611893869560559643310988147153698816, 40402837902681636728944075743787553100525682155095512378964422777603868950506930861717917533437872733331163749402810157624782768673230891816987490551905340881752888279603138518191111716881949552549160131745806179838486331517519612530107010848184454155262043297698584472305666060239590278515423698446924016905488325598335772066735159070456995849814032539752600585895017014694423010433798673845056085403359098141371140530762026453348555431569874185293170827107542371439509950807139893959502478320552721426098325935006502799521922431966858110235185919897653196283854130097539000187383953329893127488468166034132053126308333843119595198474911165503447582107723454039267515776603862577982956367126331850118914853499390731234219608390475451974464619926988739186860683869584653781823013819650399948927444371407437739219154992146162915693944963833448800961802144573580229512448388807563262959394843574661854584774014430930715367417310888445656406425723770290478242768598061317757682800414261940752076138979657876855026741322587621346514807927557056133231749398586888997959871228501125096342137491759086629512391627552203028072018719550218091994823342671610508985819108374449772813820742317545710474022452448409285635606019542075914141598026149308453676552831318884352]\n"
     ]
    }
   ],
   "source": [
    "seq = [1,2]\n",
    "for i in range(18):\n",
    "    proximo = seq[-1] * seq[-2]\n",
    "    seq.append(proximo)\n",
    "print(seq)"
   ]
  },
  {
   "cell_type": "markdown",
   "id": "3c176575-c041-423a-8b5e-173ea2ce6d07",
   "metadata": {},
   "source": [
    "![title](img/Ex2Py.png)"
   ]
  },
  {
   "cell_type": "code",
   "execution_count": 18,
   "id": "e9feee3e-c1c9-46ee-898e-92aaaa010401",
   "metadata": {},
   "outputs": [],
   "source": [
    "def segunda(n):\n",
    "    sequencia = [1, 2]\n",
    "    for i in range(2, n):\n",
    "        proximo = sequencia[-1] * sequencia[-2]\n",
    "        sequencia.append(proximo)\n",
    "    return sequencia[n-1]"
   ]
  },
  {
   "cell_type": "code",
   "execution_count": 19,
   "id": "e2e52174-af7c-4da7-a6b1-89a3523ea040",
   "metadata": {},
   "outputs": [
    {
     "data": {
      "text/plain": [
       "32"
      ]
     },
     "execution_count": 19,
     "metadata": {},
     "output_type": "execute_result"
    }
   ],
   "source": [
    "segunda(6)"
   ]
  },
  {
   "cell_type": "code",
   "execution_count": 58,
   "id": "d18de76b-0bc5-44e1-ac49-52c784131024",
   "metadata": {},
   "outputs": [],
   "source": [
    "def primeira(n):\n",
    "    sequencia = [2]\n",
    "    proximo = 2\n",
    "    for i in range(n):\n",
    "        proximo += 7\n",
    "        sequencia.append(proximo)\n",
    "    return sequencia[n-1]"
   ]
  },
  {
   "cell_type": "code",
   "execution_count": 61,
   "id": "08110e0d-20ea-4ae9-8eac-c20898ece67a",
   "metadata": {},
   "outputs": [
    {
     "data": {
      "text/plain": [
       "2"
      ]
     },
     "execution_count": 61,
     "metadata": {},
     "output_type": "execute_result"
    }
   ],
   "source": [
    "primeira(1)"
   ]
  },
  {
   "cell_type": "markdown",
   "id": "abc1c018-e2fd-4d55-83d2-86b1865e579a",
   "metadata": {},
   "source": [
    "![title](img/Ex3Py.png)"
   ]
  },
  {
   "cell_type": "code",
   "execution_count": 62,
   "id": "de307eb7-1453-4eb2-9410-228899137f67",
   "metadata": {},
   "outputs": [],
   "source": [
    "def somaPares(a,x):\n",
    "    for i in range(len(a)-1):\n",
    "        for j in range(i+1,len(a)):\n",
    "            if a[i]+a[j] ==x:\n",
    "                return True\n",
    "    return False"
   ]
  },
  {
   "cell_type": "code",
   "execution_count": 64,
   "id": "fb6e2b1a-21c5-418c-852e-7bc67e4ddd6a",
   "metadata": {},
   "outputs": [
    {
     "data": {
      "text/plain": [
       "True"
      ]
     },
     "execution_count": 64,
     "metadata": {},
     "output_type": "execute_result"
    }
   ],
   "source": [
    "#somaPares([1,2,3,-1],10)\n",
    "somaPares([1,2,3,-1],2)"
   ]
  },
  {
   "cell_type": "markdown",
   "id": "b3645d03-6540-4512-b743-7cdb356d66e7",
   "metadata": {},
   "source": [
    "![title](img/Ex4Py.png)"
   ]
  },
  {
   "cell_type": "code",
   "execution_count": 65,
   "id": "285574cb-479c-41d3-a089-e1ad05e2c0d7",
   "metadata": {},
   "outputs": [
    {
     "data": {
      "text/plain": [
       "'e'"
      ]
     },
     "execution_count": 65,
     "metadata": {},
     "output_type": "execute_result"
    }
   ],
   "source": [
    "from string import ascii_letters\n",
    "def mais_freq(a):\n",
    "    occ = {}\n",
    "    for x in a:\n",
    "        if x in ascii_letters:\n",
    "            occ.setdefault(x,0)\n",
    "            occ[x] +=1\n",
    "    max_occ = max(occ.values())\n",
    "    for k,v in occ.items():\n",
    "        if v == max_occ:\n",
    "            return k\n",
    "mais_freq(\"um exemplo a ver\")\n",
    "    "
   ]
  },
  {
   "cell_type": "code",
   "execution_count": 67,
   "id": "ffc2ef2f-8ec9-45d6-b2b4-b7a9de8b3b8a",
   "metadata": {},
   "outputs": [
    {
     "data": {
      "text/plain": [
       "'e'"
      ]
     },
     "execution_count": 67,
     "metadata": {},
     "output_type": "execute_result"
    }
   ],
   "source": [
    "def mais_freq(a):\n",
    "    a=a.replace(\" \", \"\")\n",
    "    occ = {}\n",
    "    for x in a:\n",
    "        occ.setdefault(x,0)\n",
    "        occ[x] +=1\n",
    "    max_occ = max(occ.values())\n",
    "    for k,v in occ.items():\n",
    "        if v == max_occ:\n",
    "            return k\n",
    "mais_freq(\"um exemplo a ver\")"
   ]
  },
  {
   "cell_type": "markdown",
   "id": "e250003c-1b37-49d7-971e-09fc5e64dbaa",
   "metadata": {},
   "source": [
    "![title](img/Ex5Py.png)"
   ]
  },
  {
   "cell_type": "code",
   "execution_count": 72,
   "id": "690abbbc-f2a1-466a-94df-6ef9a20f95eb",
   "metadata": {},
   "outputs": [],
   "source": [
    "def hist2list(h):\n",
    "    lista = []\n",
    "    for k,v in sorted(h.items()):\n",
    "        lista+=[k]*v\n",
    "    return lista"
   ]
  },
  {
   "cell_type": "code",
   "execution_count": 73,
   "id": "dae0399f-99e0-4cea-985f-3cd46c546ccc",
   "metadata": {},
   "outputs": [
    {
     "data": {
      "text/plain": [
       "[10, 10, 10, 10, 20, 20]"
      ]
     },
     "execution_count": 73,
     "metadata": {},
     "output_type": "execute_result"
    }
   ],
   "source": [
    "hist2list({10:4,20:2})"
   ]
  },
  {
   "cell_type": "code",
   "execution_count": 77,
   "id": "18d6152f-32da-4de5-80cb-6b779a691691",
   "metadata": {},
   "outputs": [
    {
     "data": {
      "text/plain": [
       "[10, 10, 10, 10, 20, 20]"
      ]
     },
     "execution_count": 77,
     "metadata": {},
     "output_type": "execute_result"
    }
   ],
   "source": [
    "def hist2list(h):\n",
    "    lista = []\n",
    "    for k,v in sorted(h.items(), key=lambda t: t[0]):\n",
    "        lista+=[k]*v\n",
    "    return lista\n",
    "hist2list({10:4,20:2})"
   ]
  },
  {
   "cell_type": "code",
   "execution_count": 75,
   "id": "fe9b9ed2-36cb-41d8-9292-d5445a1414d2",
   "metadata": {},
   "outputs": [],
   "source": [
    "def curs(v,i,j):\n",
    "    cur = v[i]\n",
    "    cur_index = i\n",
    "    for k in range(i,j+1):\n",
    "        if v[k] < cur:\n",
    "            cur = v[k]\n",
    "            cur_index = k\n",
    "    return cur_index"
   ]
  },
  {
   "cell_type": "code",
   "execution_count": 71,
   "id": "2b2e1808-e551-4631-ac84-ad78ab7e578d",
   "metadata": {},
   "outputs": [
    {
     "data": {
      "text/plain": [
       "2"
      ]
     },
     "execution_count": 71,
     "metadata": {},
     "output_type": "execute_result"
    }
   ],
   "source": [
    "def recurs(v,i,j):\n",
    "    if i == j:\n",
    "        return i\n",
    "    min_pos = recurs(v,i+1,j)\n",
    "    return i if v[i] < v[min_pos] else min_pos\n",
    "v1 = [40,20,10]\n",
    "recurs(v1,0,2)"
   ]
  },
  {
   "cell_type": "code",
   "execution_count": 78,
   "id": "8647a153-7487-4acb-ba7e-6b759b7c87ac",
   "metadata": {},
   "outputs": [
    {
     "name": "stdout",
     "output_type": "stream",
     "text": [
      "[0, 5, 8, 10, 20, 30, 31, 40, 60, 80, 100]\n"
     ]
    }
   ],
   "source": [
    "def merge(arr,inicio,meio,fim):\n",
    "    a1=arr[inicio:meio+1]\n",
    "    a2=arr[meio+1:fim+1]\n",
    "    i=j=0\n",
    "    k=inicio\n",
    "    while i < len(a1) and j < len(a2):\n",
    "        if a1[i] <= a2[j]:\n",
    "            arr[k]= a1[i]\n",
    "            i+=1\n",
    "        else:\n",
    "            arr[k] = a2[j]\n",
    "            j += 1\n",
    "        k += 1\n",
    "    while i < len(a1):\n",
    "        arr[k]= a1[i]\n",
    "        i+=1\n",
    "        k+=1\n",
    "    while j < len(a2):\n",
    "        arr[k]= a2[j]\n",
    "        j+=1\n",
    "        k+=1\n",
    "u = [0, 10, 20, 30, 40, 60, 80, 5, 8, 31, 100]\n",
    "merge(u, 0, 6, len(u)-1)\n",
    "print(u)"
   ]
  },
  {
   "cell_type": "code",
   "execution_count": 90,
   "id": "1fe0a065-9384-4f2f-b392-fe3019e5c123",
   "metadata": {},
   "outputs": [],
   "source": [
    "def f(hist):\n",
    "    out = (max(hist) + 1) * [0]\n",
    "    for x in hist:\n",
    "        out[x] +=1\n",
    "    return out"
   ]
  },
  {
   "cell_type": "code",
   "execution_count": 91,
   "id": "c6e8b07f-ce53-4710-a600-8699f01c6b39",
   "metadata": {},
   "outputs": [
    {
     "name": "stdout",
     "output_type": "stream",
     "text": [
      "[2, 3, 1, 0, 1]\n"
     ]
    }
   ],
   "source": [
    "print(f([1,0,0,2,1,4,1]))"
   ]
  },
  {
   "cell_type": "code",
   "execution_count": 98,
   "id": "98f4a2c7-4339-43cb-90f7-bc102dc54897",
   "metadata": {},
   "outputs": [],
   "source": [
    "def hist_ac (u):\n",
    "    acc = f(u)\n",
    "    print(acc)\n",
    "    for i in range(1,len(acc)):\n",
    "        acc[i]+=acc[i-1]\n",
    "    return acc"
   ]
  },
  {
   "cell_type": "code",
   "execution_count": 99,
   "id": "293cfd5d-5693-4aa4-a7b3-3d241ff32f65",
   "metadata": {},
   "outputs": [
    {
     "name": "stdout",
     "output_type": "stream",
     "text": [
      "[2, 3, 1, 0, 1]\n"
     ]
    },
    {
     "data": {
      "text/plain": [
       "[2, 5, 6, 6, 7]"
      ]
     },
     "execution_count": 99,
     "metadata": {},
     "output_type": "execute_result"
    }
   ],
   "source": [
    "hist_ac([1,0,0,2,1,4,1])"
   ]
  },
  {
   "cell_type": "code",
   "execution_count": 52,
   "id": "3387ee03-77ac-4c38-bdbb-5682eb1998a3",
   "metadata": {},
   "outputs": [],
   "source": [
    "a = [5, 2, 4, 6, 1,3]\n",
    "def insert(a):\n",
    "    for i in range(1,len(a)):\n",
    "        key = a[i]\n",
    "        while a[i-1] > key  and i > 0:\n",
    "            a[i],a[i-1] = a[i-1],a[i]\n",
    "            i = i - 1\n",
    "    return a"
   ]
  },
  {
   "cell_type": "code",
   "execution_count": 53,
   "id": "9f3d3ac8-4f54-4e71-b38c-92493987ea4a",
   "metadata": {},
   "outputs": [
    {
     "data": {
      "text/plain": [
       "[1, 2, 3, 4, 5, 6]"
      ]
     },
     "execution_count": 53,
     "metadata": {},
     "output_type": "execute_result"
    }
   ],
   "source": [
    "insert(a)"
   ]
  },
  {
   "cell_type": "code",
   "execution_count": 43,
   "id": "15fc5b44-5a78-4fe5-bde4-134943da8729",
   "metadata": {},
   "outputs": [
    {
     "data": {
      "text/plain": [
       "[1, 6, 3, 4, 5, 2]"
      ]
     },
     "execution_count": 43,
     "metadata": {},
     "output_type": "execute_result"
    }
   ],
   "source": [
    "a"
   ]
  },
  {
   "cell_type": "code",
   "execution_count": 54,
   "id": "496f2151-8e7b-41e4-90ac-60721569504d",
   "metadata": {},
   "outputs": [],
   "source": [
    "a = [5, 2, 4, 6, 1,3]\n",
    "def insert(a):\n",
    "    for i in range(1,len(a)):\n",
    "        key = a[i]\n",
    "        while a[i-1] > key and i > 0:\n",
    "            a[i],a[i-1]= a[i-1],a[i]\n",
    "            i = i -1\n",
    "    return a"
   ]
  },
  {
   "cell_type": "code",
   "execution_count": 30,
   "id": "032f4f57-089c-47a3-bbf6-426abdd413bc",
   "metadata": {},
   "outputs": [],
   "source": [
    "import pandas as pd\n",
    "\n",
    "date1 = \"2022-11-22\"  # input start date\n",
    "date2 = \"2025-04-06\"  # input end date\n",
    "\n",
    "month_list = [i.strftime(\"%d-%m-%y\") for i in pd.date_range(start=date1, end=date2, freq='BQS')]"
   ]
  },
  {
   "cell_type": "code",
   "execution_count": 31,
   "id": "37c8e088-625e-44a8-8846-6acfb7c2006a",
   "metadata": {},
   "outputs": [
    {
     "data": {
      "text/plain": [
       "['02-01-23',\n",
       " '03-04-23',\n",
       " '03-07-23',\n",
       " '02-10-23',\n",
       " '01-01-24',\n",
       " '01-04-24',\n",
       " '01-07-24',\n",
       " '01-10-24',\n",
       " '01-01-25',\n",
       " '01-04-25']"
      ]
     },
     "execution_count": 31,
     "metadata": {},
     "output_type": "execute_result"
    }
   ],
   "source": [
    "month_list"
   ]
  },
  {
   "cell_type": "code",
   "execution_count": 32,
   "id": "fe934824-59fc-46fc-8519-e628ace7ee21",
   "metadata": {},
   "outputs": [],
   "source": [
    "a = [5, 2, 4, 6, 1,3]\n",
    "def insert(a):\n",
    "    for i in range(len(a)):\n",
    "        key = a[i]\n",
    "        while a[i-1] > key and i > 0:\n",
    "            a[i],a[i-1]= a[i-1],a[i]\n",
    "            i = i - 1\n",
    "    return a\n",
    "            "
   ]
  },
  {
   "cell_type": "code",
   "execution_count": 33,
   "id": "4a1d97a2-5a57-4539-8627-4b6672642223",
   "metadata": {},
   "outputs": [
    {
     "data": {
      "text/plain": [
       "[1, 2, 3, 4, 5, 6]"
      ]
     },
     "execution_count": 33,
     "metadata": {},
     "output_type": "execute_result"
    }
   ],
   "source": [
    "insert(a)"
   ]
  },
  {
   "cell_type": "code",
   "execution_count": 1,
   "id": "112a29f3-62a3-46db-8d55-7490f4379075",
   "metadata": {},
   "outputs": [],
   "source": [
    "import os"
   ]
  },
  {
   "cell_type": "code",
   "execution_count": 1,
   "id": "24b581d8-1f0d-4f3d-be23-0d012111c0cb",
   "metadata": {},
   "outputs": [],
   "source": [
    "with open(\"frutas.txt\") as f:\n",
    "    lines = f.readline()\n",
    "    for line in lines:\n",
    "        print(lines)"
   ]
  },
  {
   "cell_type": "code",
   "execution_count": 6,
   "id": "ae71c334-3c7c-4b36-9098-50cd05b25e0d",
   "metadata": {},
   "outputs": [],
   "source": [
    "fr=open(\"frutas.txt\")"
   ]
  },
  {
   "cell_type": "code",
   "execution_count": 15,
   "id": "31c54e88-d46a-4d35-a1ce-0795adf5bb18",
   "metadata": {},
   "outputs": [
    {
     "name": "stdout",
     "output_type": "stream",
     "text": [
      "'abacate\n",
      "', 'amora\n",
      "', 'ameixa\n",
      "', 'acerola\n",
      "', 'abacaxi\n",
      "', 'açai\n",
      "', 'banana\n",
      "', 'carambola\n",
      "', 'caju\n",
      "', 'cereja\n",
      "', 'cacau\n",
      "', 'caqui\n",
      "', 'cupuaçu\n",
      "', 'damasco\n",
      "', 'figo\n",
      "', 'framboesa\n",
      "', 'graviola\n",
      "', 'goiaba\n",
      "', 'groselia\n",
      "', 'guarana\n",
      "', 'jaca\n",
      "', 'kiwi\n",
      "', 'laranja\n",
      "', 'limao\n",
      "', 'lima\n",
      "', 'lixia\n",
      "', 'melancia\n",
      "', 'mamao\n",
      "', 'melao\n",
      "', 'maracuja\n",
      "', 'manga\n",
      "', 'maça\n",
      "', 'mexerica\n",
      "', 'morango\n",
      "', 'nectarina\n",
      "', 'pera\n",
      "', 'pessego\n",
      "', 'pitanga\n",
      "', 'pinha\n",
      "', 'quina\n",
      "', 'roma\n",
      "', 'tangerina\n",
      "', 'uva\n",
      "'\n"
     ]
    },
    {
     "data": {
      "text/plain": [
       "472"
      ]
     },
     "execution_count": 15,
     "metadata": {},
     "output_type": "execute_result"
    }
   ],
   "source": [
    "file = open('frutas.txt', 'r+') \n",
    "out = open('keywords.txt', 'w+') \n",
    "output_string = \"\"\n",
    "for cells in file:\n",
    "    output_string += (\"'{}', \".format(cells))\n",
    "print(output_string[:-2])\n",
    "out.write(output_string[:-2])"
   ]
  },
  {
   "cell_type": "code",
   "execution_count": 126,
   "id": "066fd659-53fc-455b-a6f7-7cb764e96710",
   "metadata": {},
   "outputs": [
    {
     "name": "stdout",
     "output_type": "stream",
     "text": [
      "['F1', 'F2', 'F3', 'F4', 'F5', 'F6', 'F7', 'F8', 'F9', 'F10', 'F11', 'F12', 'F13', 'F14', 'F15', 'F16', 'F17', 'F18', 'F19', 'F20', 'F21', 'F22', 'F23', 'F24', 'F25', 'F26', 'F27', 'F28', 'F29', 'F30', 'F31', 'F32', 'F33', 'F34', 'F35', 'F36', 'F37', 'F38', 'F39', 'F40', 'F41', 'F42', 'F43']\n",
      "['1.00', '2.00', '3.00', '4.00', '5.00', '6.00', '7.00', '8.00', '9.00', '10.00', '11.00', '12.00', '13.00', '14.00', '15.00', '16.00', '17.00', '18.00', '19.00', '20.00', '21.00', '22.00', '23.00', '24.00', '25.00', '26.00', '27.00', '28.00', '29.00', '30.00', '31.00', '32.00', '33.00', '34.00', '35.00', '36.00', '37.00', '38.00', '39.00', '40.00', '41.00', '42.00', '43.00']\n",
      "['1', '2', '3', '4', '5', '6', '7', '8', '9', '10', '11', '12', '13', '14', '15', '16', '17', '18', '19', '20', '21', '22', '23', '24', '25', '26', '27', '28', '29', '30', '31', '32', '33', '34', '35', '36', '37', '38', '39', '40', '41', '42', '43']\n",
      "[\"F1,abacate,1.00,1,'frutas'\\n\", \"F2,amora,2.00,2,'frutas'\\n\", \"F3,ameixa,3.00,3,'frutas'\\n\", \"F4,acerola,4.00,4,'frutas'\\n\", \"F5,abacaxi,5.00,5,'frutas'\\n\", \"F6,açai,6.00,6,'frutas'\\n\", \"F7,banana,7.00,7,'frutas'\\n\", \"F8,carambola,8.00,8,'frutas'\\n\", \"F9,caju,9.00,9,'frutas'\\n\", \"F10,cereja,10.00,10,'frutas'\\n\", \"F11,cacau,11.00,11,'frutas'\\n\", \"F12,caqui,12.00,12,'frutas'\\n\", \"F13,cupuaçu,13.00,13,'frutas'\\n\", \"F14,damasco,14.00,14,'frutas'\\n\", \"F15,figo,15.00,15,'frutas'\\n\", \"F16,framboesa,16.00,16,'frutas'\\n\", \"F17,graviola,17.00,17,'frutas'\\n\", \"F18,goiaba,18.00,18,'frutas'\\n\", \"F19,groselia,19.00,19,'frutas'\\n\", \"F20,guarana,20.00,20,'frutas'\\n\", \"F21,jaca,21.00,21,'frutas'\\n\", \"F22,kiwi,22.00,22,'frutas'\\n\", \"F23,laranja,23.00,23,'frutas'\\n\", \"F24,limao,24.00,24,'frutas'\\n\", \"F25,lima,25.00,25,'frutas'\\n\", \"F26,lixia,26.00,26,'frutas'\\n\", \"F27,melancia,27.00,27,'frutas'\\n\", \"F28,mamao,28.00,28,'frutas'\\n\", \"F29,melao,29.00,29,'frutas'\\n\", \"F30,maracuja,30.00,30,'frutas'\\n\", \"F31,manga,31.00,31,'frutas'\\n\", \"F32,maça,32.00,32,'frutas'\\n\", \"F33,mexerica,33.00,33,'frutas'\\n\", \"F34,morango,34.00,34,'frutas'\\n\", \"F35,nectarina,35.00,35,'frutas'\\n\", \"F36,pera,36.00,36,'frutas'\\n\", \"F37,pessego,37.00,37,'frutas'\\n\", \"F38,pitanga,38.00,38,'frutas'\\n\", \"F39,pinha,39.00,39,'frutas'\\n\", \"F40,quina,40.00,40,'frutas'\\n\", \"F41,roma,41.00,41,'frutas'\\n\", \"F42,tangerina,42.00,42,'frutas'\\n\", \"F43,uva,43.00,43,'frutas'\\n\"]\n"
     ]
    }
   ],
   "source": [
    "import csv\n",
    "input_file = \"frutas.txt\"  \n",
    "output_file = \"output.txt\"  \n",
    "l = [f'F{i}' for i in range(1,44)]\n",
    "print(l)\n",
    "prices = [f'{i:.2f}' for i in range(1,44)]\n",
    "print(prices)\n",
    "stock = [f'{i}' for i in range(1,44)]\n",
    "print(stock)\n",
    "with open(input_file, \"r\") as file:\n",
    "    lines = file.readlines()\n",
    "processed_lines = [f\"{l},{line.strip()},{price},{stock},'frutas'\\n\" for l,line,price,stock in zip(l,lines,prices,stock)]\n",
    "print(processed_lines)"
   ]
  },
  {
   "cell_type": "code",
   "execution_count": 123,
   "id": "64f9dd7d-4d1f-4937-b355-77f9175fee95",
   "metadata": {},
   "outputs": [
    {
     "name": "stdout",
     "output_type": "stream",
     "text": [
      "Processed 43 lines and saved to output.txt.\n"
     ]
    }
   ],
   "source": [
    "#with open(output_file, 'w', newline='') as csvfile:\n",
    "#    spamwriter = csv.writer(csvfile, delimiter=',')\n",
    "#    spamwriter.writerows(processed_lines)\n",
    "with open(output_file, \"w\") as file:\n",
    "    file.writelines(processed_lines)\n",
    "\n",
    "print(f\"Processed {len(lines)} lines and saved to {output_file}.\")"
   ]
  },
  {
   "cell_type": "code",
   "execution_count": 75,
   "id": "59e12510-85ba-4d86-98f7-0775c18bed15",
   "metadata": {},
   "outputs": [
    {
     "ename": "FileNotFoundError",
     "evalue": "[Errno 2] No such file or directory: 'testlorem'",
     "output_type": "error",
     "traceback": [
      "\u001b[0;31m---------------------------------------------------------------------------\u001b[0m",
      "\u001b[0;31mFileNotFoundError\u001b[0m                         Traceback (most recent call last)",
      "Cell \u001b[0;32mIn[75], line 4\u001b[0m\n\u001b[1;32m      1\u001b[0m file_name \u001b[38;5;241m=\u001b[39m \u001b[38;5;124m\"\u001b[39m\u001b[38;5;124mtestlorem\u001b[39m\u001b[38;5;124m\"\u001b[39m\n\u001b[1;32m      2\u001b[0m string_to_add \u001b[38;5;241m=\u001b[39m \u001b[38;5;124m\"\u001b[39m\u001b[38;5;124madded\u001b[39m\u001b[38;5;124m\"\u001b[39m\n\u001b[0;32m----> 4\u001b[0m \u001b[38;5;28;01mwith\u001b[39;00m \u001b[38;5;28;43mopen\u001b[39;49m\u001b[43m(\u001b[49m\u001b[43mfile_name\u001b[49m\u001b[43m,\u001b[49m\u001b[43m \u001b[49m\u001b[38;5;124;43m'\u001b[39;49m\u001b[38;5;124;43mr\u001b[39;49m\u001b[38;5;124;43m'\u001b[39;49m\u001b[43m)\u001b[49m \u001b[38;5;28;01mas\u001b[39;00m f:\n\u001b[1;32m      5\u001b[0m     file_lines \u001b[38;5;241m=\u001b[39m [\u001b[38;5;124m'\u001b[39m\u001b[38;5;124m'\u001b[39m\u001b[38;5;241m.\u001b[39mjoin([x\u001b[38;5;241m.\u001b[39mstrip(), string_to_add, \u001b[38;5;124m'\u001b[39m\u001b[38;5;130;01m\\n\u001b[39;00m\u001b[38;5;124m'\u001b[39m]) \u001b[38;5;28;01mfor\u001b[39;00m x \u001b[38;5;129;01min\u001b[39;00m f\u001b[38;5;241m.\u001b[39mreadlines()]\n\u001b[1;32m      7\u001b[0m \u001b[38;5;28;01mwith\u001b[39;00m \u001b[38;5;28mopen\u001b[39m(file_name, \u001b[38;5;124m'\u001b[39m\u001b[38;5;124mw\u001b[39m\u001b[38;5;124m'\u001b[39m) \u001b[38;5;28;01mas\u001b[39;00m f:\n",
      "File \u001b[0;32m~/complex/lib/python3.11/site-packages/IPython/core/interactiveshell.py:324\u001b[0m, in \u001b[0;36m_modified_open\u001b[0;34m(file, *args, **kwargs)\u001b[0m\n\u001b[1;32m    317\u001b[0m \u001b[38;5;28;01mif\u001b[39;00m file \u001b[38;5;129;01min\u001b[39;00m {\u001b[38;5;241m0\u001b[39m, \u001b[38;5;241m1\u001b[39m, \u001b[38;5;241m2\u001b[39m}:\n\u001b[1;32m    318\u001b[0m     \u001b[38;5;28;01mraise\u001b[39;00m \u001b[38;5;167;01mValueError\u001b[39;00m(\n\u001b[1;32m    319\u001b[0m         \u001b[38;5;124mf\u001b[39m\u001b[38;5;124m\"\u001b[39m\u001b[38;5;124mIPython won\u001b[39m\u001b[38;5;124m'\u001b[39m\u001b[38;5;124mt let you open fd=\u001b[39m\u001b[38;5;132;01m{\u001b[39;00mfile\u001b[38;5;132;01m}\u001b[39;00m\u001b[38;5;124m by default \u001b[39m\u001b[38;5;124m\"\u001b[39m\n\u001b[1;32m    320\u001b[0m         \u001b[38;5;124m\"\u001b[39m\u001b[38;5;124mas it is likely to crash IPython. If you know what you are doing, \u001b[39m\u001b[38;5;124m\"\u001b[39m\n\u001b[1;32m    321\u001b[0m         \u001b[38;5;124m\"\u001b[39m\u001b[38;5;124myou can use builtins\u001b[39m\u001b[38;5;124m'\u001b[39m\u001b[38;5;124m open.\u001b[39m\u001b[38;5;124m\"\u001b[39m\n\u001b[1;32m    322\u001b[0m     )\n\u001b[0;32m--> 324\u001b[0m \u001b[38;5;28;01mreturn\u001b[39;00m \u001b[43mio_open\u001b[49m\u001b[43m(\u001b[49m\u001b[43mfile\u001b[49m\u001b[43m,\u001b[49m\u001b[43m \u001b[49m\u001b[38;5;241;43m*\u001b[39;49m\u001b[43margs\u001b[49m\u001b[43m,\u001b[49m\u001b[43m \u001b[49m\u001b[38;5;241;43m*\u001b[39;49m\u001b[38;5;241;43m*\u001b[39;49m\u001b[43mkwargs\u001b[49m\u001b[43m)\u001b[49m\n",
      "\u001b[0;31mFileNotFoundError\u001b[0m: [Errno 2] No such file or directory: 'testlorem'"
     ]
    }
   ],
   "source": [
    "file_name = \"testlorem\"\n",
    "string_to_add = \"added\"\n",
    "\n",
    "with open(file_name, 'r') as f:\n",
    "    file_lines = [''.join([x.strip(), string_to_add, '\\n']) for x in f.readlines()]\n",
    "\n",
    "with open(file_name, 'w') as f:\n",
    "    f.writelines(file_lines) "
   ]
  },
  {
   "cell_type": "code",
   "execution_count": 127,
   "id": "a460de4b-9b0f-4468-a231-a530ca472a87",
   "metadata": {},
   "outputs": [],
   "source": [
    "with open('output.txt', 'r') as in_file:\n",
    "    stripped = (line.strip() for line in in_file)\n",
    "    lines = (line.split(\",\") for line in stripped if line)\n",
    "    with open('log.csv', 'w') as out_file:\n",
    "        writer = csv.writer(out_file)\n",
    "        writer.writerow(('codigo', 'nome', 'preco','stock', 'category'))\n",
    "        writer.writerows(lines)"
   ]
  },
  {
   "cell_type": "markdown",
   "id": "86bc9dbf",
   "metadata": {},
   "source": [
    "![title](img/D2024Ex01.png)"
   ]
  },
  {
   "cell_type": "code",
   "execution_count": 6,
   "id": "b68226b4",
   "metadata": {},
   "outputs": [
    {
     "name": "stdout",
     "output_type": "stream",
     "text": [
      "Teste1: True\n",
      "Teste2: False\n"
     ]
    }
   ],
   "source": [
    "def somaPI(a):\n",
    "    return sum(y for y in a if y % 2 == 0) == sum(y for y in a if y % 2 == 1)\n",
    "\n",
    "print(f'Teste1: {somaPI([1,2,3,2])}')\n",
    "print(f'Teste2: {somaPI([1,2,4,3])}')"
   ]
  },
  {
   "cell_type": "markdown",
   "id": "28cd70a9",
   "metadata": {},
   "source": [
    "![title](img/D2024Ex02.png)"
   ]
  },
  {
   "cell_type": "code",
   "execution_count": 12,
   "id": "47f2bd75",
   "metadata": {},
   "outputs": [
    {
     "name": "stdout",
     "output_type": "stream",
     "text": [
      "[4, 3, 2, 1]\n"
     ]
    }
   ],
   "source": [
    "def inPlace(a):\n",
    "    n = len(a)\n",
    "    for i in range(n>>1):\n",
    "        a[i],a[n-i-1]= a[n-i-1],a[i]\n",
    "    return a\n",
    "print(inPlace([1,2,3,4]))"
   ]
  },
  {
   "cell_type": "markdown",
   "id": "2e813c64",
   "metadata": {},
   "source": [
    "![title](img/D2024Ex03.png)"
   ]
  },
  {
   "cell_type": "code",
   "execution_count": 13,
   "id": "bbd0c034",
   "metadata": {},
   "outputs": [],
   "source": [
    "def noReps(s):\n",
    "     return len(set(s)) == len(s)"
   ]
  },
  {
   "cell_type": "code",
   "execution_count": 25,
   "id": "424237d0",
   "metadata": {},
   "outputs": [
    {
     "name": "stdout",
     "output_type": "stream",
     "text": [
      "True\n"
     ]
    }
   ],
   "source": [
    "def noReps(s):\n",
    "    vistos = []\n",
    "    for c in s:\n",
    "        if c in vistos:\n",
    "            return False\n",
    "        vistos.append(c)\n",
    "    return True\n",
    "\n",
    "      \n",
    "def noReps(s):\n",
    "    vistos = {}\n",
    "    for c in s:\n",
    "        if c in vistos:\n",
    "            return False\n",
    "        vistos[c] = True\n",
    "    return True\n",
    "\n",
    "def noReps3(s):\n",
    "    for i in range(len(s)-1):\n",
    "        for j in range(i+1,len(s)):\n",
    "            if s[i]==s[j] :\n",
    "                return False\n",
    "    return True\n",
    "\n",
    "print(noReps3(\"python\"))"
   ]
  },
  {
   "cell_type": "markdown",
   "id": "3f1fd35b",
   "metadata": {},
   "source": [
    "![title](img/D2024Ex04.png)"
   ]
  },
  {
   "cell_type": "code",
   "execution_count": 26,
   "id": "262a9ab5",
   "metadata": {},
   "outputs": [
    {
     "name": "stdout",
     "output_type": "stream",
     "text": [
      "{-3: 1, 4: 2, 10: 3, 12: 5, 20: 6}\n"
     ]
    }
   ],
   "source": [
    "def elementos(a):\n",
    "    resultado = {}\n",
    "    for x in a:\n",
    "        count = sum(1 for y in a if y <=x)\n",
    "        resultado[x] = count\n",
    "    return dict(sorted(resultado.items()))\n",
    "\n",
    "print(elementos([4,-3,10,12,20,12]))\n",
    "    "
   ]
  },
  {
   "cell_type": "markdown",
   "id": "8421045b",
   "metadata": {},
   "source": [
    "![title](img/D2024III.png)"
   ]
  },
  {
   "cell_type": "code",
   "execution_count": 27,
   "id": "e22f7ae3",
   "metadata": {},
   "outputs": [],
   "source": [
    "\n",
    "def aceita(automato):\n",
    "    Q = automato['Q']\n",
    "    Sigma = automato['Sigma']\n",
    "    Delta = automato['Delta']\n",
    "    q0 = automato['q0']\n",
    "    F = automato['F']\n",
    " \n",
    "    for simbolo in Sigma:\n",
    "        if (q0, simbolo) in Delta:\n",
    "            q1 = Delta[(q0, simbolo)]\n",
    "            if q1 in F:\n",
    "                return True\n",
    "    return False\n"
   ]
  },
  {
   "cell_type": "code",
   "execution_count": null,
   "id": "5b6d3439",
   "metadata": {},
   "outputs": [
    {
     "name": "stdout",
     "output_type": "stream",
     "text": [
      "[-3, 4, 10, 12, 20, 12]\n"
     ]
    }
   ],
   "source": [
    "def quicksort(arr):\n",
    "    if len(arr) <= 1:\n",
    "        return arr\n",
    "    else:\n",
    "        pivot = arr[0] \n",
    "        less = [x for x in arr[1:] if x <= pivot]\n",
    "        greater = [x for x in arr[1:] if x > pivot]\n",
    "    return quicksort(less) + [pivot] + quicksort(greater)"
   ]
  },
  {
   "cell_type": "code",
   "execution_count": null,
   "id": "eae9634d",
   "metadata": {},
   "outputs": [],
   "source": []
  }
 ],
 "metadata": {
  "kernelspec": {
   "display_name": "Python 3",
   "language": "python",
   "name": "python3"
  },
  "language_info": {
   "codemirror_mode": {
    "name": "ipython",
    "version": 3
   },
   "file_extension": ".py",
   "mimetype": "text/x-python",
   "name": "python",
   "nbconvert_exporter": "python",
   "pygments_lexer": "ipython3",
   "version": "3.11.5"
  }
 },
 "nbformat": 4,
 "nbformat_minor": 5
}
