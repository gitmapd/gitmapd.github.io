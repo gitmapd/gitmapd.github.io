{
 "cells": [
  {
   "cell_type": "code",
   "execution_count": 9,
   "id": "35b10485-3827-4d61-b5dd-83e984a9e01b",
   "metadata": {},
   "outputs": [],
   "source": [
    "import numpy as np\n",
    "import pandas as pd\n",
    "from math import sqrt"
   ]
  },
  {
   "cell_type": "code",
   "execution_count": 20,
   "id": "861e5389-a47a-45b3-af25-079ded3bb7aa",
   "metadata": {},
   "outputs": [],
   "source": [
    "m = [19,14.5,16,25,9.5,17,10.5,14.5,8.5,30,10,13.7,9.6,19.4,26,20,19.3,19.2,25,11.2]"
   ]
  },
  {
   "cell_type": "code",
   "execution_count": 11,
   "id": "104da622-2242-4eef-a5d6-861d28197f5d",
   "metadata": {},
   "outputs": [
    {
     "data": {
      "text/plain": [
       "14.944444444444445"
      ]
     },
     "execution_count": 11,
     "metadata": {},
     "output_type": "execute_result"
    }
   ],
   "source": [
    "np.mean(distance1)"
   ]
  },
  {
   "cell_type": "code",
   "execution_count": 12,
   "id": "efe2f9fc-1e76-420c-b4e5-21f2fc335cf7",
   "metadata": {},
   "outputs": [
    {
     "data": {
      "text/plain": [
       "4.878777422244477"
      ]
     },
     "execution_count": 12,
     "metadata": {},
     "output_type": "execute_result"
    }
   ],
   "source": [
    "np.std(distance1)"
   ]
  },
  {
   "cell_type": "code",
   "execution_count": 4,
   "id": "e643d8e5-d6e8-43c1-9ec8-14b38f55c05b",
   "metadata": {},
   "outputs": [
    {
     "data": {
      "text/plain": [
       "14.944444444444445"
      ]
     },
     "execution_count": 4,
     "metadata": {},
     "output_type": "execute_result"
    }
   ],
   "source": [
    "def mean(x):\n",
    "    return (sum(y for y in x))/len(x)\n",
    "mean(distance1)"
   ]
  },
  {
   "cell_type": "code",
   "execution_count": 22,
   "id": "c27f174d-ccfc-4738-a2a0-5f5a3ca8d55d",
   "metadata": {},
   "outputs": [
    {
     "name": "stdout",
     "output_type": "stream",
     "text": [
      "     distancia cm distancia metros\n",
      "unit   centimeter            meter\n",
      "0            19.0             <NA>\n",
      "1            14.5             <NA>\n",
      "2            16.0             <NA>\n",
      "3            25.0             <NA>\n",
      "4             9.5             <NA>\n",
      "5            17.0             <NA>\n",
      "6            10.5             <NA>\n",
      "7            14.5             <NA>\n",
      "8             8.5             <NA>\n",
      "9            30.0             <NA>\n",
      "10           10.0             <NA>\n",
      "11           13.7             <NA>\n",
      "12            9.6             <NA>\n",
      "13           19.4             <NA>\n",
      "14           26.0             <NA>\n",
      "15           20.0             <NA>\n",
      "16           19.3             <NA>\n",
      "17           19.2             <NA>\n",
      "18           25.0             <NA>\n",
      "19           11.2             <NA>\n"
     ]
    }
   ],
   "source": [
    "import pandas as pd\n",
    "import pint\n",
    "import pint_pandas\n",
    "ureg = pint.get_application_registry()\n",
    "#ureg.Unit.default_format = \"~P\"\n",
    "#pint_pandas.PintType.ureg.default_format = \"~P\"\n",
    "\n",
    "df = pd.DataFrame({\n",
    "    \"distancia cm\": pd.Series(m, dtype=\"pint[cm]\"),\n",
    "    \"distancia metros\": pd.Series([], dtype=\"pint[m]\"),\n",
    "})\n",
    "\n",
    "print(df.pint.dequantify())"
   ]
  },
  {
   "cell_type": "code",
   "execution_count": 21,
   "id": "2607ad29-aded-45f9-a75c-9e7e02e4a73b",
   "metadata": {},
   "outputs": [
    {
     "data": {
      "text/plain": [
       "distancia cm                     pint[centimeter]\n",
       "distancia metros    pint[centimeter ** 2 * meter]\n",
       "dtype: object"
      ]
     },
     "execution_count": 21,
     "metadata": {},
     "output_type": "execute_result"
    }
   ],
   "source": [
    "def convert_cm_m(x):\n",
    "    x= x * ureg.cm\n",
    "    return x * ureg.m\n",
    "convert_cm_m(m)\n",
    "df['distancia metros']=df['distancia cm'].apply(convert_cm_m)\n",
    "df.dtypes"
   ]
  },
  {
   "cell_type": "code",
   "execution_count": 17,
   "id": "de6e41c8-b325-42a5-ac17-b7171670e7c9",
   "metadata": {},
   "outputs": [
    {
     "ename": "NameError",
     "evalue": "name 'np' is not defined",
     "output_type": "error",
     "traceback": [
      "\u001b[0;31m---------------------------------------------------------------------------\u001b[0m",
      "\u001b[0;31mNameError\u001b[0m                                 Traceback (most recent call last)",
      "Cell \u001b[0;32mIn[17], line 5\u001b[0m\n\u001b[1;32m      3\u001b[0m     time \u001b[38;5;241m=\u001b[39m np\u001b[38;5;241m.\u001b[39msqrt(\u001b[38;5;241m2\u001b[39m\u001b[38;5;241m*\u001b[39mx\u001b[38;5;241m/\u001b[39mg)\n\u001b[1;32m      4\u001b[0m     \u001b[38;5;28;01mreturn\u001b[39;00m time\n\u001b[0;32m----> 5\u001b[0m \u001b[38;5;28mprint\u001b[39m(\u001b[43mdist_time\u001b[49m\u001b[43m(\u001b[49m\u001b[38;5;241;43m19\u001b[39;49m\u001b[43m)\u001b[49m)\n",
      "Cell \u001b[0;32mIn[17], line 3\u001b[0m, in \u001b[0;36mdist_time\u001b[0;34m(x)\u001b[0m\n\u001b[1;32m      1\u001b[0m \u001b[38;5;28;01mdef\u001b[39;00m \u001b[38;5;21mdist_time\u001b[39m(x):\n\u001b[1;32m      2\u001b[0m     g \u001b[38;5;241m=\u001b[39m \u001b[38;5;241m9.8\u001b[39m \u001b[38;5;241m*\u001b[39m ureg[\u001b[38;5;124m'\u001b[39m\u001b[38;5;124mmeter/second**2\u001b[39m\u001b[38;5;124m'\u001b[39m]\n\u001b[0;32m----> 3\u001b[0m     time \u001b[38;5;241m=\u001b[39m \u001b[43mnp\u001b[49m\u001b[38;5;241m.\u001b[39msqrt(\u001b[38;5;241m2\u001b[39m\u001b[38;5;241m*\u001b[39mx\u001b[38;5;241m/\u001b[39mg)\n\u001b[1;32m      4\u001b[0m     \u001b[38;5;28;01mreturn\u001b[39;00m time\n",
      "\u001b[0;31mNameError\u001b[0m: name 'np' is not defined"
     ]
    }
   ],
   "source": [
    "def dist_time(x):\n",
    "    g = 9.8 * ureg['meter/second**2']\n",
    "    time = np.sqrt(2*x/g)\n",
    "    return time\n",
    "print(dist_time(19))"
   ]
  },
  {
   "cell_type": "code",
   "execution_count": null,
   "id": "9e0436df-8136-4342-b457-dc3381849abd",
   "metadata": {},
   "outputs": [],
   "source": []
  },
  {
   "cell_type": "code",
   "execution_count": 95,
   "id": "423904e3-53d8-416b-91ff-5d13a6406fe7",
   "metadata": {},
   "outputs": [],
   "source": [
    "df['tempo']=df['distancia'].apply(dist_time)"
   ]
  },
  {
   "cell_type": "code",
   "execution_count": 96,
   "id": "4f7ca96b-346a-42b3-8899-c71eef817407",
   "metadata": {},
   "outputs": [
    {
     "data": {
      "text/html": [
       "<div>\n",
       "<style scoped>\n",
       "    .dataframe tbody tr th:only-of-type {\n",
       "        vertical-align: middle;\n",
       "    }\n",
       "\n",
       "    .dataframe tbody tr th {\n",
       "        vertical-align: top;\n",
       "    }\n",
       "\n",
       "    .dataframe thead th {\n",
       "        text-align: right;\n",
       "    }\n",
       "</style>\n",
       "<table border=\"1\" class=\"dataframe\">\n",
       "  <thead>\n",
       "    <tr style=\"text-align: right;\">\n",
       "      <th></th>\n",
       "      <th>distancia</th>\n",
       "      <th>tempo</th>\n",
       "    </tr>\n",
       "  </thead>\n",
       "  <tbody>\n",
       "    <tr>\n",
       "      <th>0</th>\n",
       "      <td>19.0</td>\n",
       "      <td>None</td>\n",
       "    </tr>\n",
       "    <tr>\n",
       "      <th>1</th>\n",
       "      <td>14.5</td>\n",
       "      <td>None</td>\n",
       "    </tr>\n",
       "    <tr>\n",
       "      <th>2</th>\n",
       "      <td>16.0</td>\n",
       "      <td>None</td>\n",
       "    </tr>\n",
       "    <tr>\n",
       "      <th>3</th>\n",
       "      <td>25.0</td>\n",
       "      <td>None</td>\n",
       "    </tr>\n",
       "    <tr>\n",
       "      <th>4</th>\n",
       "      <td>9.5</td>\n",
       "      <td>None</td>\n",
       "    </tr>\n",
       "    <tr>\n",
       "      <th>5</th>\n",
       "      <td>17.0</td>\n",
       "      <td>None</td>\n",
       "    </tr>\n",
       "    <tr>\n",
       "      <th>6</th>\n",
       "      <td>10.5</td>\n",
       "      <td>None</td>\n",
       "    </tr>\n",
       "    <tr>\n",
       "      <th>7</th>\n",
       "      <td>14.5</td>\n",
       "      <td>None</td>\n",
       "    </tr>\n",
       "    <tr>\n",
       "      <th>8</th>\n",
       "      <td>8.5</td>\n",
       "      <td>None</td>\n",
       "    </tr>\n",
       "  </tbody>\n",
       "</table>\n",
       "</div>"
      ],
      "text/plain": [
       "   distancia tempo\n",
       "0       19.0  None\n",
       "1       14.5  None\n",
       "2       16.0  None\n",
       "3       25.0  None\n",
       "4        9.5  None\n",
       "5       17.0  None\n",
       "6       10.5  None\n",
       "7       14.5  None\n",
       "8        8.5  None"
      ]
     },
     "execution_count": 96,
     "metadata": {},
     "output_type": "execute_result"
    }
   ],
   "source": [
    "df"
   ]
  },
  {
   "cell_type": "code",
   "execution_count": 97,
   "id": "4e7471ff-ebdd-479a-84db-cb4bcaf42a66",
   "metadata": {},
   "outputs": [
    {
     "data": {
      "text/plain": [
       "distancia    pint[cm]\n",
       "tempo          object\n",
       "dtype: object"
      ]
     },
     "execution_count": 97,
     "metadata": {},
     "output_type": "execute_result"
    }
   ],
   "source": [
    "df.dtypes"
   ]
  },
  {
   "cell_type": "code",
   "execution_count": null,
   "id": "c8397fb6-3e87-4589-908b-efd660f250de",
   "metadata": {},
   "outputs": [],
   "source": []
  }
 ],
 "metadata": {
  "kernelspec": {
   "display_name": "Python 3 (ipykernel)",
   "language": "python",
   "name": "python3"
  },
  "language_info": {
   "codemirror_mode": {
    "name": "ipython",
    "version": 3
   },
   "file_extension": ".py",
   "mimetype": "text/x-python",
   "name": "python",
   "nbconvert_exporter": "python",
   "pygments_lexer": "ipython3",
   "version": "3.11.5"
  }
 },
 "nbformat": 4,
 "nbformat_minor": 5
}
