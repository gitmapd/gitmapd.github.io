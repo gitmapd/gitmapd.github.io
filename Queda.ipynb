{
 "cells": [
  {
   "cell_type": "code",
   "execution_count": 9,
   "id": "35b10485-3827-4d61-b5dd-83e984a9e01b",
   "metadata": {},
   "outputs": [],
   "source": [
    "import numpy as np\n",
    "import pandas as pd\n",
    "from math import sqrt"
   ]
  },
  {
   "cell_type": "code",
   "execution_count": 59,
   "id": "861e5389-a47a-45b3-af25-079ded3bb7aa",
   "metadata": {},
   "outputs": [],
   "source": [
    "m = [19,14.5,16,25,9.5,17,10.5,14.5,8.5,30,10,13.7,9.6,19.4,26,20,19.3,19.2,25,11.2]"
   ]
  },
  {
   "cell_type": "code",
   "execution_count": 11,
   "id": "104da622-2242-4eef-a5d6-861d28197f5d",
   "metadata": {},
   "outputs": [
    {
     "data": {
      "text/plain": [
       "14.944444444444445"
      ]
     },
     "execution_count": 11,
     "metadata": {},
     "output_type": "execute_result"
    }
   ],
   "source": [
    "np.mean(distance1)"
   ]
  },
  {
   "cell_type": "code",
   "execution_count": 12,
   "id": "efe2f9fc-1e76-420c-b4e5-21f2fc335cf7",
   "metadata": {},
   "outputs": [
    {
     "data": {
      "text/plain": [
       "4.878777422244477"
      ]
     },
     "execution_count": 12,
     "metadata": {},
     "output_type": "execute_result"
    }
   ],
   "source": [
    "np.std(distance1)"
   ]
  },
  {
   "cell_type": "code",
   "execution_count": 4,
   "id": "e643d8e5-d6e8-43c1-9ec8-14b38f55c05b",
   "metadata": {},
   "outputs": [
    {
     "data": {
      "text/plain": [
       "14.944444444444445"
      ]
     },
     "execution_count": 4,
     "metadata": {},
     "output_type": "execute_result"
    }
   ],
   "source": [
    "def mean(x):\n",
    "    return (sum(y for y in x))/len(x)\n",
    "mean(distance1)"
   ]
  },
  {
   "cell_type": "code",
   "execution_count": 60,
   "id": "c27f174d-ccfc-4738-a2a0-5f5a3ca8d55d",
   "metadata": {},
   "outputs": [],
   "source": [
    "import pandas as pd\n",
    "import pint\n",
    "import pint_pandas\n",
    "ureg = pint.get_application_registry()\n",
    "ureg.Unit.default_format = \"~P\"\n",
    "pint_pandas.PintType.ureg.default_format = \"~P\"\n",
    "\n",
    "df = pd.DataFrame({\n",
    "    \"distancia cm\": pd.Series(m, dtype=\"pint[cm]\"),\n",
    "    \"distancia metros\": pd.Series([], dtype=\"pint[m]\"),\n",
    "})\n",
    "#pd.set_option('display.float_format', '{:.2E}'.format)"
   ]
  },
  {
   "cell_type": "code",
   "execution_count": 64,
   "id": "2607ad29-aded-45f9-a75c-9e7e02e4a73b",
   "metadata": {},
   "outputs": [
    {
     "data": {
      "text/html": [
       "<div>\n",
       "<style scoped>\n",
       "    .dataframe tbody tr th:only-of-type {\n",
       "        vertical-align: middle;\n",
       "    }\n",
       "\n",
       "    .dataframe tbody tr th {\n",
       "        vertical-align: top;\n",
       "    }\n",
       "\n",
       "    .dataframe thead tr th {\n",
       "        text-align: left;\n",
       "    }\n",
       "</style>\n",
       "<table border=\"1\" class=\"dataframe\">\n",
       "  <thead>\n",
       "    <tr>\n",
       "      <th></th>\n",
       "      <th>distancia cm</th>\n",
       "      <th>distancia metros</th>\n",
       "    </tr>\n",
       "    <tr>\n",
       "      <th>unit</th>\n",
       "      <th>cm</th>\n",
       "      <th>m</th>\n",
       "    </tr>\n",
       "  </thead>\n",
       "  <tbody>\n",
       "    <tr>\n",
       "      <th>0</th>\n",
       "      <td>1.90E+01</td>\n",
       "      <td>1.90E-01</td>\n",
       "    </tr>\n",
       "    <tr>\n",
       "      <th>1</th>\n",
       "      <td>1.45E+01</td>\n",
       "      <td>1.45E-01</td>\n",
       "    </tr>\n",
       "    <tr>\n",
       "      <th>2</th>\n",
       "      <td>1.60E+01</td>\n",
       "      <td>1.60E-01</td>\n",
       "    </tr>\n",
       "    <tr>\n",
       "      <th>3</th>\n",
       "      <td>2.50E+01</td>\n",
       "      <td>2.50E-01</td>\n",
       "    </tr>\n",
       "    <tr>\n",
       "      <th>4</th>\n",
       "      <td>9.50E+00</td>\n",
       "      <td>9.50E-02</td>\n",
       "    </tr>\n",
       "    <tr>\n",
       "      <th>5</th>\n",
       "      <td>1.70E+01</td>\n",
       "      <td>1.70E-01</td>\n",
       "    </tr>\n",
       "    <tr>\n",
       "      <th>6</th>\n",
       "      <td>1.05E+01</td>\n",
       "      <td>1.05E-01</td>\n",
       "    </tr>\n",
       "    <tr>\n",
       "      <th>7</th>\n",
       "      <td>1.45E+01</td>\n",
       "      <td>1.45E-01</td>\n",
       "    </tr>\n",
       "    <tr>\n",
       "      <th>8</th>\n",
       "      <td>8.50E+00</td>\n",
       "      <td>8.50E-02</td>\n",
       "    </tr>\n",
       "    <tr>\n",
       "      <th>9</th>\n",
       "      <td>3.00E+01</td>\n",
       "      <td>3.00E-01</td>\n",
       "    </tr>\n",
       "    <tr>\n",
       "      <th>10</th>\n",
       "      <td>1.00E+01</td>\n",
       "      <td>1.00E-01</td>\n",
       "    </tr>\n",
       "    <tr>\n",
       "      <th>11</th>\n",
       "      <td>1.37E+01</td>\n",
       "      <td>1.37E-01</td>\n",
       "    </tr>\n",
       "    <tr>\n",
       "      <th>12</th>\n",
       "      <td>9.60E+00</td>\n",
       "      <td>9.60E-02</td>\n",
       "    </tr>\n",
       "    <tr>\n",
       "      <th>13</th>\n",
       "      <td>1.94E+01</td>\n",
       "      <td>1.94E-01</td>\n",
       "    </tr>\n",
       "    <tr>\n",
       "      <th>14</th>\n",
       "      <td>2.60E+01</td>\n",
       "      <td>2.60E-01</td>\n",
       "    </tr>\n",
       "    <tr>\n",
       "      <th>15</th>\n",
       "      <td>2.00E+01</td>\n",
       "      <td>2.00E-01</td>\n",
       "    </tr>\n",
       "    <tr>\n",
       "      <th>16</th>\n",
       "      <td>1.93E+01</td>\n",
       "      <td>1.93E-01</td>\n",
       "    </tr>\n",
       "    <tr>\n",
       "      <th>17</th>\n",
       "      <td>1.92E+01</td>\n",
       "      <td>1.92E-01</td>\n",
       "    </tr>\n",
       "    <tr>\n",
       "      <th>18</th>\n",
       "      <td>2.50E+01</td>\n",
       "      <td>2.50E-01</td>\n",
       "    </tr>\n",
       "    <tr>\n",
       "      <th>19</th>\n",
       "      <td>1.12E+01</td>\n",
       "      <td>1.12E-01</td>\n",
       "    </tr>\n",
       "  </tbody>\n",
       "</table>\n",
       "</div>"
      ],
      "text/plain": [
       "     distancia cm distancia metros\n",
       "unit           cm                m\n",
       "0        1.90E+01         1.90E-01\n",
       "1        1.45E+01         1.45E-01\n",
       "2        1.60E+01         1.60E-01\n",
       "3        2.50E+01         2.50E-01\n",
       "4        9.50E+00         9.50E-02\n",
       "5        1.70E+01         1.70E-01\n",
       "6        1.05E+01         1.05E-01\n",
       "7        1.45E+01         1.45E-01\n",
       "8        8.50E+00         8.50E-02\n",
       "9        3.00E+01         3.00E-01\n",
       "10       1.00E+01         1.00E-01\n",
       "11       1.37E+01         1.37E-01\n",
       "12       9.60E+00         9.60E-02\n",
       "13       1.94E+01         1.94E-01\n",
       "14       2.60E+01         2.60E-01\n",
       "15       2.00E+01         2.00E-01\n",
       "16       1.93E+01         1.93E-01\n",
       "17       1.92E+01         1.92E-01\n",
       "18       2.50E+01         2.50E-01\n",
       "19       1.12E+01         1.12E-01"
      ]
     },
     "execution_count": 64,
     "metadata": {},
     "output_type": "execute_result"
    }
   ],
   "source": [
    "df['distancia metros']=df['distancia cm'].pint.to(\"m\").values\n",
    "df.style.format({'distancia metros': \"{:.2E}\"})\n",
    "df.pint.dequantify()"
   ]
  },
  {
   "cell_type": "code",
   "execution_count": 17,
   "id": "de6e41c8-b325-42a5-ac17-b7171670e7c9",
   "metadata": {},
   "outputs": [
    {
     "ename": "NameError",
     "evalue": "name 'np' is not defined",
     "output_type": "error",
     "traceback": [
      "\u001b[0;31m---------------------------------------------------------------------------\u001b[0m",
      "\u001b[0;31mNameError\u001b[0m                                 Traceback (most recent call last)",
      "Cell \u001b[0;32mIn[17], line 5\u001b[0m\n\u001b[1;32m      3\u001b[0m     time \u001b[38;5;241m=\u001b[39m np\u001b[38;5;241m.\u001b[39msqrt(\u001b[38;5;241m2\u001b[39m\u001b[38;5;241m*\u001b[39mx\u001b[38;5;241m/\u001b[39mg)\n\u001b[1;32m      4\u001b[0m     \u001b[38;5;28;01mreturn\u001b[39;00m time\n\u001b[0;32m----> 5\u001b[0m \u001b[38;5;28mprint\u001b[39m(\u001b[43mdist_time\u001b[49m\u001b[43m(\u001b[49m\u001b[38;5;241;43m19\u001b[39;49m\u001b[43m)\u001b[49m)\n",
      "Cell \u001b[0;32mIn[17], line 3\u001b[0m, in \u001b[0;36mdist_time\u001b[0;34m(x)\u001b[0m\n\u001b[1;32m      1\u001b[0m \u001b[38;5;28;01mdef\u001b[39;00m \u001b[38;5;21mdist_time\u001b[39m(x):\n\u001b[1;32m      2\u001b[0m     g \u001b[38;5;241m=\u001b[39m \u001b[38;5;241m9.8\u001b[39m \u001b[38;5;241m*\u001b[39m ureg[\u001b[38;5;124m'\u001b[39m\u001b[38;5;124mmeter/second**2\u001b[39m\u001b[38;5;124m'\u001b[39m]\n\u001b[0;32m----> 3\u001b[0m     time \u001b[38;5;241m=\u001b[39m \u001b[43mnp\u001b[49m\u001b[38;5;241m.\u001b[39msqrt(\u001b[38;5;241m2\u001b[39m\u001b[38;5;241m*\u001b[39mx\u001b[38;5;241m/\u001b[39mg)\n\u001b[1;32m      4\u001b[0m     \u001b[38;5;28;01mreturn\u001b[39;00m time\n",
      "\u001b[0;31mNameError\u001b[0m: name 'np' is not defined"
     ]
    }
   ],
   "source": [
    "def dist_time(x):\n",
    "    g = 9.8 * ureg['meter/second**2']\n",
    "    time = np.sqrt(2*x/g)\n",
    "    return time\n",
    "print(dist_time(19))"
   ]
  },
  {
   "cell_type": "code",
   "execution_count": null,
   "id": "9e0436df-8136-4342-b457-dc3381849abd",
   "metadata": {},
   "outputs": [],
   "source": []
  },
  {
   "cell_type": "code",
   "execution_count": null,
   "id": "1e5d995a-5f3f-4b95-8153-163d99c6d532",
   "metadata": {},
   "outputs": [],
   "source": []
  }
 ],
 "metadata": {
  "kernelspec": {
   "display_name": "Python 3 (ipykernel)",
   "language": "python",
   "name": "python3"
  },
  "language_info": {
   "codemirror_mode": {
    "name": "ipython",
    "version": 3
   },
   "file_extension": ".py",
   "mimetype": "text/x-python",
   "name": "python",
   "nbconvert_exporter": "python",
   "pygments_lexer": "ipython3",
   "version": "3.11.5"
  }
 },
 "nbformat": 4,
 "nbformat_minor": 5
}
