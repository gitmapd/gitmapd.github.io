{
 "cells": [
  {
   "cell_type": "code",
   "execution_count": 9,
   "id": "35b10485-3827-4d61-b5dd-83e984a9e01b",
   "metadata": {},
   "outputs": [],
   "source": [
    "import numpy as np\n",
    "import pandas as pd\n",
    "from math import sqrt"
   ]
  },
  {
   "cell_type": "code",
   "execution_count": 10,
   "id": "861e5389-a47a-45b3-af25-079ded3bb7aa",
   "metadata": {},
   "outputs": [],
   "source": [
    "distance1 = [19,14.5,16,25,9.5,17,10.5,14.5,8.5]"
   ]
  },
  {
   "cell_type": "code",
   "execution_count": 11,
   "id": "104da622-2242-4eef-a5d6-861d28197f5d",
   "metadata": {},
   "outputs": [
    {
     "data": {
      "text/plain": [
       "14.944444444444445"
      ]
     },
     "execution_count": 11,
     "metadata": {},
     "output_type": "execute_result"
    }
   ],
   "source": [
    "np.mean(distance1)"
   ]
  },
  {
   "cell_type": "code",
   "execution_count": 12,
   "id": "efe2f9fc-1e76-420c-b4e5-21f2fc335cf7",
   "metadata": {},
   "outputs": [
    {
     "data": {
      "text/plain": [
       "4.878777422244477"
      ]
     },
     "execution_count": 12,
     "metadata": {},
     "output_type": "execute_result"
    }
   ],
   "source": [
    "np.std(distance1)"
   ]
  },
  {
   "cell_type": "code",
   "execution_count": 27,
   "id": "e643d8e5-d6e8-43c1-9ec8-14b38f55c05b",
   "metadata": {},
   "outputs": [],
   "source": [
    "#mydf = pd.DataFrame(distance1, columns = ['Distancia'])"
   ]
  },
  {
   "cell_type": "code",
   "execution_count": 41,
   "id": "c27f174d-ccfc-4738-a2a0-5f5a3ca8d55d",
   "metadata": {},
   "outputs": [
    {
     "name": "stdout",
     "output_type": "stream",
     "text": [
      "     distancia tempo\n",
      "unit        cm     s\n",
      "0         19.0  <NA>\n",
      "1         14.5  <NA>\n",
      "2         16.0  <NA>\n",
      "3         25.0  <NA>\n",
      "4          9.5  <NA>\n",
      "5         17.0  <NA>\n",
      "6         10.5  <NA>\n",
      "7         14.5  <NA>\n",
      "8          8.5  <NA>\n"
     ]
    }
   ],
   "source": [
    "import pandas as pd\n",
    "import pint\n",
    "import pint_pandas\n",
    "ureg = pint.get_application_registry()\n",
    "#ureg.Unit.default_format = \"~P\"\n",
    "#pint_pandas.PintType.ureg.default_format = \"~P\"\n",
    "\n",
    "df = pd.DataFrame({\n",
    "    \"distancia\": pd.Series(distance1, dtype=\"pint[cm]\"),\n",
    "    \"tempo\": pd.Series([], dtype=\"pint[s]\"),\n",
    "})\n",
    "\n",
    "print(df.pint.dequantify())"
   ]
  },
  {
   "cell_type": "code",
   "execution_count": 56,
   "id": "de6e41c8-b325-42a5-ac17-b7171670e7c9",
   "metadata": {},
   "outputs": [
    {
     "data": {
      "text/html": [
       "1.3923991921155663 s"
      ],
      "text/latex": [
       "$1.3923991921155663\\ \\mathrm{s}$"
      ],
      "text/plain": [
       "<Quantity(1.39239919, 'second')>"
      ]
     },
     "execution_count": 56,
     "metadata": {},
     "output_type": "execute_result"
    }
   ],
   "source": [
    "def dist_time(x):\n",
    "    g = 9.8 * ureg['meter/second**2']\n",
    "    x = x *ureg.meter\n",
    "    time = np.sqrt(x/g)\n",
    "    return time\n",
    "dist_time(19)"
   ]
  },
  {
   "cell_type": "code",
   "execution_count": 57,
   "id": "423904e3-53d8-416b-91ff-5d13a6406fe7",
   "metadata": {},
   "outputs": [],
   "source": [
    "df['tempo']=df['distancia'].apply(dist_time)"
   ]
  },
  {
   "cell_type": "code",
   "execution_count": 58,
   "id": "4f7ca96b-346a-42b3-8899-c71eef817407",
   "metadata": {},
   "outputs": [
    {
     "data": {
      "text/html": [
       "<div>\n",
       "<style scoped>\n",
       "    .dataframe tbody tr th:only-of-type {\n",
       "        vertical-align: middle;\n",
       "    }\n",
       "\n",
       "    .dataframe tbody tr th {\n",
       "        vertical-align: top;\n",
       "    }\n",
       "\n",
       "    .dataframe thead th {\n",
       "        text-align: right;\n",
       "    }\n",
       "</style>\n",
       "<table border=\"1\" class=\"dataframe\">\n",
       "  <thead>\n",
       "    <tr style=\"text-align: right;\">\n",
       "      <th></th>\n",
       "      <th>distancia</th>\n",
       "      <th>tempo</th>\n",
       "    </tr>\n",
       "  </thead>\n",
       "  <tbody>\n",
       "    <tr>\n",
       "      <th>0</th>\n",
       "      <td>19.0</td>\n",
       "      <td>1.3923991921155663</td>\n",
       "    </tr>\n",
       "    <tr>\n",
       "      <th>1</th>\n",
       "      <td>14.5</td>\n",
       "      <td>1.2163847404233143</td>\n",
       "    </tr>\n",
       "    <tr>\n",
       "      <th>2</th>\n",
       "      <td>16.0</td>\n",
       "      <td>1.2777531299998797</td>\n",
       "    </tr>\n",
       "    <tr>\n",
       "      <th>3</th>\n",
       "      <td>25.0</td>\n",
       "      <td>1.5971914124998499</td>\n",
       "    </tr>\n",
       "    <tr>\n",
       "      <th>4</th>\n",
       "      <td>9.5</td>\n",
       "      <td>0.9845749108635873</td>\n",
       "    </tr>\n",
       "    <tr>\n",
       "      <th>5</th>\n",
       "      <td>17.0</td>\n",
       "      <td>1.3170777796132696</td>\n",
       "    </tr>\n",
       "    <tr>\n",
       "      <th>6</th>\n",
       "      <td>10.5</td>\n",
       "      <td>1.0350983390135313</td>\n",
       "    </tr>\n",
       "    <tr>\n",
       "      <th>7</th>\n",
       "      <td>14.5</td>\n",
       "      <td>1.2163847404233143</td>\n",
       "    </tr>\n",
       "    <tr>\n",
       "      <th>8</th>\n",
       "      <td>8.5</td>\n",
       "      <td>0.9313146293146641</td>\n",
       "    </tr>\n",
       "  </tbody>\n",
       "</table>\n",
       "</div>"
      ],
      "text/plain": [
       "   distancia               tempo\n",
       "0       19.0  1.3923991921155663\n",
       "1       14.5  1.2163847404233143\n",
       "2       16.0  1.2777531299998797\n",
       "3       25.0  1.5971914124998499\n",
       "4        9.5  0.9845749108635873\n",
       "5       17.0  1.3170777796132696\n",
       "6       10.5  1.0350983390135313\n",
       "7       14.5  1.2163847404233143\n",
       "8        8.5  0.9313146293146641"
      ]
     },
     "execution_count": 58,
     "metadata": {},
     "output_type": "execute_result"
    }
   ],
   "source": [
    "df"
   ]
  },
  {
   "cell_type": "code",
   "execution_count": 59,
   "id": "4e7471ff-ebdd-479a-84db-cb4bcaf42a66",
   "metadata": {},
   "outputs": [
    {
     "data": {
      "text/plain": [
       "distancia         pint[cm]\n",
       "tempo        pint[cm⁰⋅⁵·s]\n",
       "dtype: object"
      ]
     },
     "execution_count": 59,
     "metadata": {},
     "output_type": "execute_result"
    }
   ],
   "source": [
    "df.dtypes"
   ]
  },
  {
   "cell_type": "code",
   "execution_count": null,
   "id": "c8397fb6-3e87-4589-908b-efd660f250de",
   "metadata": {},
   "outputs": [],
   "source": []
  }
 ],
 "metadata": {
  "kernelspec": {
   "display_name": "Python 3 (ipykernel)",
   "language": "python",
   "name": "python3"
  },
  "language_info": {
   "codemirror_mode": {
    "name": "ipython",
    "version": 3
   },
   "file_extension": ".py",
   "mimetype": "text/x-python",
   "name": "python",
   "nbconvert_exporter": "python",
   "pygments_lexer": "ipython3",
   "version": "3.11.5"
  }
 },
 "nbformat": 4,
 "nbformat_minor": 5
}
